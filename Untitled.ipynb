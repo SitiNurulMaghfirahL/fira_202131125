{
 "cells": [
  {
   "cell_type": "markdown",
   "id": "4422f79f",
   "metadata": {},
   "source": [
    "## Siti Nurul Magfirah L.\n",
    "## 202131125"
   ]
  },
  {
   "cell_type": "markdown",
   "id": "5139d791",
   "metadata": {},
   "source": [
    "## Pengambangan Dwi Aras"
   ]
  },
  {
   "cell_type": "code",
   "execution_count": 8,
   "id": "fa60d84f",
   "metadata": {},
   "outputs": [],
   "source": [
    "import cv2 as fira\n",
    "import numpy as np\n",
    "from matplotlib import pyplot as plt"
   ]
  },
  {
   "cell_type": "code",
   "execution_count": 9,
   "id": "e86482c0",
   "metadata": {},
   "outputs": [],
   "source": [
    "daun = fira.imread(\"daun.jpg\",0)\n",
    "tinggi, lebar = daun.shape"
   ]
  },
  {
   "cell_type": "code",
   "execution_count": null,
   "id": "b6329a37",
   "metadata": {},
   "outputs": [],
   "source": []
  }
 ],
 "metadata": {
  "kernelspec": {
   "display_name": "Python 3 (ipykernel)",
   "language": "python",
   "name": "python3"
  },
  "language_info": {
   "codemirror_mode": {
    "name": "ipython",
    "version": 3
   },
   "file_extension": ".py",
   "mimetype": "text/x-python",
   "name": "python",
   "nbconvert_exporter": "python",
   "pygments_lexer": "ipython3",
   "version": "3.9.13"
  }
 },
 "nbformat": 4,
 "nbformat_minor": 5
}
